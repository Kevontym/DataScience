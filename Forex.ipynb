{
  "nbformat": 4,
  "nbformat_minor": 0,
  "metadata": {
    "colab": {
      "provenance": [],
      "mount_file_id": "1CuKtT4cd-f2avYCWM_W6XgZtSyycGUwa",
      "authorship_tag": "ABX9TyNHXutWndC/P/hCCWwgysNS",
      "include_colab_link": true
    },
    "kernelspec": {
      "name": "python3",
      "display_name": "Python 3"
    },
    "language_info": {
      "name": "python"
    }
  },
  "cells": [
    {
      "cell_type": "markdown",
      "metadata": {
        "id": "view-in-github",
        "colab_type": "text"
      },
      "source": [
        "<a href=\"https://colab.research.google.com/github/Kevontym/DataScience/blob/main/Forex.ipynb\" target=\"_parent\"><img src=\"https://colab.research.google.com/assets/colab-badge.svg\" alt=\"Open In Colab\"/></a>"
      ]
    },
    {
      "cell_type": "code",
      "execution_count": null,
      "metadata": {
        "id": "JGAFoqu1ERku"
      },
      "outputs": [],
      "source": []
    },
    {
      "cell_type": "code",
      "source": [
        "\n",
        "import torch\n",
        "import pandas as pd\n",
        "import os\n",
        "\n",
        "# Define the folder containing the CSVs\n",
        "folder_path = '/content/drive/MyDrive/Z-score'\n",
        "\n",
        "# Create an empty list to store DataFrames\n",
        "dfs = []\n",
        "\n",
        "# Iterate through all files in the folder\n",
        "for file_name in os.listdir(folder_path):\n",
        "    if file_name.endswith('.csv'):  # Only process CSV files\n",
        "        file_path = os.path.join(folder_path, file_name)\n",
        "        df = pd.read_csv(file_path)\n",
        "        dfs.append(df)\n",
        "\n",
        "# Combine all DataFrames into one (optional)\n",
        "combined_df = pd.concat(dfs, ignore_index=True)\n",
        "\n",
        "# Check the combined data\n",
        "print(combined_df.head())\n",
        "\n",
        "threshold = df['Close'].mean()  # Example: Using the mean of the 'Close' column as the threshold\n",
        "df['Target'] = df['Close'].apply(lambda x: 1 if x > threshold else 0)\n",
        "\n",
        "# Verify the target column\n",
        "print(\"Target distribution:\\n\", df['Target'].value_counts())\n",
        "\n",
        "# View the first few rows of the DataFrame to ensure the target is added\n",
        "print(df.head())"
      ],
      "metadata": {
        "colab": {
          "base_uri": "https://localhost:8080/"
        },
        "id": "moGdDOnjEV5X",
        "outputId": "8704ec31-ed3b-471a-9c2f-e0150509e62c"
      },
      "execution_count": null,
      "outputs": [
        {
          "output_type": "stream",
          "name": "stdout",
          "text": [
            "             Timestamp      Open      High       Low     Close     upperband  \\\n",
            "0  2024-03-07 00:00:00 -0.974675 -0.985279 -0.957956 -0.964549 -3.959425e-15   \n",
            "1  2024-03-07 00:01:00 -0.978850 -0.988064 -0.957956 -0.964549 -3.959425e-15   \n",
            "2  2024-03-07 00:02:00 -0.984912 -0.990293 -0.969051 -0.974284 -3.959425e-15   \n",
            "3  2024-03-07 00:03:00 -0.990261 -0.991129 -0.966278 -0.966774 -3.959425e-15   \n",
            "4  2024-03-07 00:04:00 -0.981911 -0.990571 -0.960730 -0.967887 -3.959425e-15   \n",
            "\n",
            "   middleband  lowerband  SMA           EMA  RSI          MACD   MACD_signal  \\\n",
            "0         0.0        0.0  0.0  7.905981e-15  0.0  3.046578e-19  9.696720e-19   \n",
            "1         0.0        0.0  0.0  7.905981e-15  0.0  3.046578e-19  9.696720e-19   \n",
            "2         0.0        0.0  0.0  7.905981e-15  0.0  3.046578e-19  9.696720e-19   \n",
            "3         0.0        0.0  0.0  7.905981e-15  0.0  3.046578e-19  9.696720e-19   \n",
            "4         0.0        0.0  0.0  7.905981e-15  0.0  3.046578e-19  9.696720e-19   \n",
            "\n",
            "      MACD_hist         slowk         slowd           ROC  \n",
            "0  7.965610e-21 -2.496800e-16  2.499688e-16 -2.130713e-19  \n",
            "1  7.965610e-21 -2.496800e-16  2.499688e-16 -2.130713e-19  \n",
            "2  7.965610e-21 -2.496800e-16  2.499688e-16 -2.130713e-19  \n",
            "3  7.965610e-21 -2.496800e-16  2.499688e-16 -2.130713e-19  \n",
            "4  7.965610e-21 -2.496800e-16  2.499688e-16 -2.130713e-19  \n",
            "Target distribution:\n",
            " Target\n",
            "1    141991\n",
            "0    121209\n",
            "Name: count, dtype: int64\n",
            "             Timestamp      Open      High       Low     Close  upperband  \\\n",
            "0  2024-03-07 00:00:00  1.002218  1.052800  0.900095  0.985745        0.0   \n",
            "1  2024-03-07 00:01:00  1.083335  1.055616  0.872112  0.911347        0.0   \n",
            "2  2024-03-07 00:02:00  0.993531  1.048994  0.900460  0.898188        0.0   \n",
            "3  2024-03-07 00:03:00  1.007384  1.035436  0.916523  0.970177        0.0   \n",
            "4  2024-03-07 00:04:00  1.010905  1.037965  0.917436  0.921671        0.0   \n",
            "\n",
            "     middleband     lowerband           SMA           EMA           RSI  \\\n",
            "0 -7.200461e-15 -7.160554e-15 -7.200461e-15 -7.203741e-15  1.382804e-16   \n",
            "1 -7.200461e-15 -7.160554e-15 -7.200461e-15 -7.203741e-15  1.382804e-16   \n",
            "2 -7.200461e-15 -7.160554e-15 -7.200461e-15 -7.203741e-15  1.382804e-16   \n",
            "3 -7.200461e-15 -7.160554e-15 -7.200461e-15 -7.203741e-15  1.382804e-16   \n",
            "4 -7.200461e-15 -7.160554e-15 -7.200461e-15 -7.203741e-15  1.382804e-16   \n",
            "\n",
            "           MACD   MACD_signal     MACD_hist         slowk         slowd  \\\n",
            "0  5.124919e-19 -2.727082e-19 -3.270511e-21 -2.408458e-16 -2.411486e-16   \n",
            "1  5.124919e-19 -2.727082e-19 -3.270511e-21 -2.408458e-16 -2.411486e-16   \n",
            "2  5.124919e-19 -2.727082e-19 -3.270511e-21 -2.408458e-16 -2.411486e-16   \n",
            "3  5.124919e-19 -2.727082e-19 -3.270511e-21 -2.408458e-16 -2.411486e-16   \n",
            "4  5.124919e-19 -2.727082e-19 -3.270511e-21 -2.408458e-16 -2.411486e-16   \n",
            "\n",
            "            ROC  Target  \n",
            "0 -1.644528e-19       1  \n",
            "1 -1.644528e-19       1  \n",
            "2 -1.644528e-19       1  \n",
            "3 -1.644528e-19       1  \n",
            "4 -1.644528e-19       1  \n"
          ]
        }
      ]
    },
    {
      "cell_type": "code",
      "source": [
        "from sklearn.model_selection import train_test_split\n",
        "\n",
        "# Define your features and target\n",
        "features = df.drop(columns=['Target'])  # Assuming 'Target' is your label column\n",
        "target = df['Target']\n",
        "\n",
        "# Split the data into training (80%) and testing (20%)\n",
        "X_train, X_test, y_train, y_test = train_test_split(features, target, test_size=0.2, random_state=42)\n",
        "\n",
        "print(f\"Training set shape: {X_train.shape}, {y_train.shape}\")\n",
        "print(f\"Testing set shape: {X_test.shape}, {y_test.shape}\")"
      ],
      "metadata": {
        "colab": {
          "base_uri": "https://localhost:8080/"
        },
        "id": "g3Sd03IkJdVP",
        "outputId": "4495e9ec-34de-441e-9316-dc26d598181f"
      },
      "execution_count": null,
      "outputs": [
        {
          "output_type": "stream",
          "name": "stdout",
          "text": [
            "Training set shape: (210560, 17), (210560,)\n",
            "Testing set shape: (52640, 17), (52640,)\n"
          ]
        }
      ]
    },
    {
      "cell_type": "code",
      "source": [
        "\n",
        "import torch\n",
        "\n",
        "# Drop the 'Date' column if it's present in your features\n",
        "X_train = X_train.select_dtypes(include=[float, int])  # Keep only numeric columns\n",
        "X_test = X_test.select_dtypes(include=[float, int])\n",
        "\n",
        "# Now convert the remaining data to PyTorch tensors\n",
        "X_train_tensor = torch.tensor(X_train.values, dtype=torch.float32)\n",
        "X_test_tensor = torch.tensor(X_test.values, dtype=torch.float32)\n",
        "y_train_tensor = torch.tensor(y_train.values, dtype=torch.float32)\n",
        "y_test_tensor = torch.tensor(y_test.values, dtype=torch.float32)"
      ],
      "metadata": {
        "id": "-Yv-6pNpMVw6"
      },
      "execution_count": null,
      "outputs": []
    },
    {
      "cell_type": "code",
      "source": [
        "import torch\n",
        "\n",
        "# Convert the data to PyTorch tensors\n",
        "X_train_tensor = torch.tensor(X_train.values, dtype=torch.float32)\n",
        "X_test_tensor = torch.tensor(X_test.values, dtype=torch.float32)\n",
        "y_train_tensor = torch.tensor(y_train.values, dtype=torch.float32)\n",
        "y_test_tensor = torch.tensor(y_test.values, dtype=torch.float32)"
      ],
      "metadata": {
        "id": "h6RTubgeJv_J"
      },
      "execution_count": null,
      "outputs": []
    },
    {
      "cell_type": "code",
      "source": [
        "import torch.nn as nn\n",
        "import torch.optim as optim\n",
        "\n",
        "class ForexNN(nn.Module):\n",
        "    def __init__(self, input_size):\n",
        "        super(ForexNN, self).__init__()\n",
        "        self.fc1 = nn.Linear(input_size, 128)  # Input layer\n",
        "        self.fc2 = nn.Linear(128, 64)  # Hidden layer\n",
        "        self.fc3 = nn.Linear(64, 1)  # Output layer\n",
        "\n",
        "    def forward(self, x):\n",
        "        x = torch.relu(self.fc1(x))\n",
        "        x = torch.relu(self.fc2(x))\n",
        "        x = torch.sigmoid(self.fc3(x))  # Sigmoid for binary classification\n",
        "        return x\n",
        "\n",
        "# Initialize the model\n",
        "model = ForexNN(input_size=X_train_tensor.shape[1])\n",
        "\n",
        "# Define loss function and optimizer\n",
        "criterion = nn.BCELoss()  # Binary Cross Entropy for classification\n",
        "optimizer = optim.Adam(model.parameters(), lr=0.001)"
      ],
      "metadata": {
        "id": "4Tz1j85IMHUT"
      },
      "execution_count": null,
      "outputs": []
    },
    {
      "cell_type": "code",
      "source": [
        "# Training the model\n",
        "epochs = 50\n",
        "for epoch in range(epochs):\n",
        "    # Forward pass\n",
        "    outputs = model(X_train_tensor)\n",
        "    loss = criterion(outputs.squeeze(), y_train_tensor)\n",
        "\n",
        "    # Backward pass and optimization\n",
        "    optimizer.zero_grad()\n",
        "    loss.backward()\n",
        "    optimizer.step()\n",
        "\n",
        "    if (epoch+1) % 10 == 0:\n",
        "        print(f'Epoch [{epoch+1}/{epochs}], Loss: {loss.item():.4f}')"
      ],
      "metadata": {
        "colab": {
          "base_uri": "https://localhost:8080/"
        },
        "id": "aJtY-hDuMaj9",
        "outputId": "78e6a5d8-2214-4838-9c60-750e9b38dd3f"
      },
      "execution_count": null,
      "outputs": [
        {
          "output_type": "stream",
          "name": "stdout",
          "text": [
            "Epoch [10/50], Loss: 0.4908\n",
            "Epoch [20/50], Loss: 0.3098\n",
            "Epoch [30/50], Loss: 0.1818\n",
            "Epoch [40/50], Loss: 0.1110\n",
            "Epoch [50/50], Loss: 0.0741\n"
          ]
        }
      ]
    },
    {
      "cell_type": "code",
      "source": [
        "from sklearn.metrics import accuracy_score\n",
        "\n",
        "# Evaluate the model on the test set\n",
        "model.eval()  # Set the model to evaluation mode\n",
        "with torch.no_grad():\n",
        "    predictions = model(X_test_tensor)\n",
        "    predicted_labels = torch.round(predictions).squeeze()\n",
        "\n",
        "# Convert predictions to numpy for comparison\n",
        "accuracy = accuracy_score(y_test_tensor.numpy(), predicted_labels.numpy())\n",
        "print(f\"Test Accuracy: {accuracy:.4f}\")"
      ],
      "metadata": {
        "colab": {
          "base_uri": "https://localhost:8080/"
        },
        "id": "ScX0_FybMiBo",
        "outputId": "6bd0f666-c6af-4c9d-d6e3-c3b402bdfa14"
      },
      "execution_count": null,
      "outputs": [
        {
          "output_type": "stream",
          "name": "stdout",
          "text": [
            "Test Accuracy: 0.9966\n"
          ]
        }
      ]
    },
    {
      "cell_type": "markdown",
      "source": [
        "Performing very well\n"
      ],
      "metadata": {
        "id": "XrdQEmzONNNV"
      }
    },
    {
      "cell_type": "code",
      "source": [
        "# Evaluate on training data\n",
        "model.eval()  # Set the model to evaluation mode\n",
        "with torch.no_grad():\n",
        "    y_train_pred = model(X_train_tensor)\n",
        "    y_train_pred_labels = torch.round(y_train_pred).detach().numpy()\n",
        "\n",
        "# Calculate training accuracy\n",
        "train_accuracy = accuracy_score(y_train_tensor, y_train_pred_labels)\n",
        "print(f\"Training Accuracy: {train_accuracy:.4f}\")"
      ],
      "metadata": {
        "colab": {
          "base_uri": "https://localhost:8080/"
        },
        "id": "pIDmRI33MxOF",
        "outputId": "480fcf60-5ae8-4bda-def4-8261f27601ea"
      },
      "execution_count": null,
      "outputs": [
        {
          "output_type": "stream",
          "name": "stdout",
          "text": [
            "Training Accuracy: 0.9966\n"
          ]
        }
      ]
    },
    {
      "cell_type": "code",
      "source": [
        "from sklearn.model_selection import KFold\n",
        "\n",
        "# Initialize KFold\n",
        "kf = KFold(n_splits=5, shuffle=True, random_state=42)  # Adjust n_splits as needed\n",
        "\n",
        "# Assuming X_train_tensor and y_train_tensor are your data tensors\n",
        "cross_val_accuracies = []\n",
        "\n",
        "for train_idx, val_idx in kf.split(X_train_tensor):\n",
        "    X_train_fold, X_val_fold = X_train_tensor[train_idx], X_train_tensor[val_idx]\n",
        "    y_train_fold, y_val_fold = y_train_tensor[train_idx], y_train_tensor[val_idx]\n",
        "\n",
        "    # Train the model\n",
        "    model.train()\n",
        "    optimizer.zero_grad()\n",
        "    output = model(X_train_fold)\n",
        "\n",
        "    # Reshape the target to match the output shape\n",
        "    loss = criterion(output, y_train_fold.view(-1, 1))\n",
        "    loss.backward()\n",
        "    optimizer.step()\n",
        "\n",
        "    # Evaluate on the validation set\n",
        "    model.eval()\n",
        "    with torch.no_grad():\n",
        "        y_val_pred = model(X_val_fold)\n",
        "        y_val_pred_labels = torch.round(y_val_pred).detach().numpy()\n",
        "        val_accuracy = accuracy_score(y_val_fold.numpy(), y_val_pred_labels)\n",
        "        cross_val_accuracies.append(val_accuracy)\n",
        "\n",
        "print(f\"Cross-validation Accuracies: {cross_val_accuracies}\")\n",
        "print(f\"Mean Cross-validation Accuracy: {sum(cross_val_accuracies) / len(cross_val_accuracies):.4f}\")"
      ],
      "metadata": {
        "colab": {
          "base_uri": "https://localhost:8080/"
        },
        "id": "9xXRpTI4NQff",
        "outputId": "b315de81-feb7-4c49-eff6-261041f3a5c4"
      },
      "execution_count": null,
      "outputs": [
        {
          "output_type": "stream",
          "name": "stdout",
          "text": [
            "Cross-validation Accuracies: [0.996343085106383, 0.9967467705167173, 0.9967467705167173, 0.9969129939209727, 0.997079217325228]\n",
            "Mean Cross-validation Accuracy: 0.9968\n"
          ]
        }
      ]
    },
    {
      "cell_type": "code",
      "source": [
        "from sklearn.metrics import precision_score, recall_score, f1_score\n",
        "\n",
        "# Initialize lists to store the metrics\n",
        "cross_val_precisions = []\n",
        "cross_val_recalls = []\n",
        "cross_val_f1_scores = []\n",
        "\n",
        "for train_idx, val_idx in kf.split(X_train_tensor):\n",
        "    X_train_fold, X_val_fold = X_train_tensor[train_idx], X_train_tensor[val_idx]\n",
        "    y_train_fold, y_val_fold = y_train_tensor[train_idx], y_train_tensor[val_idx]\n",
        "\n",
        "    # Train the model\n",
        "    model.train()\n",
        "    optimizer.zero_grad()\n",
        "    output = model(X_train_fold)\n",
        "\n",
        "    # Reshape the target to match the output shape\n",
        "    loss = criterion(output, y_train_fold.view(-1, 1))\n",
        "    loss.backward()\n",
        "    optimizer.step()\n",
        "\n",
        "    # Evaluate on the validation set\n",
        "    model.eval()\n",
        "    with torch.no_grad():\n",
        "        y_val_pred = model(X_val_fold)\n",
        "        y_val_pred_labels = torch.round(y_val_pred).detach().numpy()\n",
        "\n",
        "        # Calculate precision, recall, and F1-score\n",
        "        precision = precision_score(y_val_fold.numpy(), y_val_pred_labels)\n",
        "        recall = recall_score(y_val_fold.numpy(), y_val_pred_labels)\n",
        "        f1 = f1_score(y_val_fold.numpy(), y_val_pred_labels)\n",
        "\n",
        "        cross_val_precisions.append(precision)\n",
        "        cross_val_recalls.append(recall)\n",
        "        cross_val_f1_scores.append(f1)\n",
        "\n",
        "# Output the average metrics\n",
        "print(f\"Mean Cross-validation Precision: {sum(cross_val_precisions) / len(cross_val_precisions):.4f}\")\n",
        "print(f\"Mean Cross-validation Recall: {sum(cross_val_recalls) / len(cross_val_recalls):.4f}\")\n",
        "print(f\"Mean Cross-validation F1-score: {sum(cross_val_f1_scores) / len(cross_val_f1_scores):.4f}\")"
      ],
      "metadata": {
        "colab": {
          "base_uri": "https://localhost:8080/"
        },
        "id": "DGhQu-M7NU15",
        "outputId": "b195ea4a-59f1-4992-9ddb-b5f9412e662a"
      },
      "execution_count": null,
      "outputs": [
        {
          "output_type": "stream",
          "name": "stdout",
          "text": [
            "Mean Cross-validation Precision: 0.9958\n",
            "Mean Cross-validation Recall: 0.9985\n",
            "Mean Cross-validation F1-score: 0.9971\n"
          ]
        }
      ]
    },
    {
      "cell_type": "code",
      "source": [
        "from sklearn.ensemble import RandomForestClassifier\n",
        "import matplotlib.pyplot as plt\n",
        "\n",
        "# Initialize a random forest classifier\n",
        "rf_model = RandomForestClassifier(n_estimators=100, random_state=42)\n",
        "\n",
        "# Train the model\n",
        "rf_model.fit(X_train, y_train)\n",
        "\n",
        "# Get feature importance\n",
        "importances = rf_model.feature_importances_\n",
        "\n",
        "# Create a DataFrame for feature importance ranking\n",
        "feature_importance_df = pd.DataFrame({'Feature': X_train.columns, 'Importance': importances})\n",
        "feature_importance_df = feature_importance_df.sort_values(by='Importance', ascending=False)\n",
        "\n",
        "# Plot the feature importance\n",
        "plt.figure(figsize=(10, 6))\n",
        "plt.title('Feature Importance Ranking')\n",
        "plt.barh(feature_importance_df['Feature'], feature_importance_df['Importance'], color='skyblue')\n",
        "plt.gca().invert_yaxis()  # Highest importance at the top\n",
        "plt.show()\n",
        "\n",
        "# Display the ranked features\n",
        "print(feature_importance_df)"
      ],
      "metadata": {
        "colab": {
          "base_uri": "https://localhost:8080/",
          "height": 849
        },
        "id": "TfuW2dFMNml_",
        "outputId": "af89d0bc-a6e1-4bee-8262-c7695128f8b7"
      },
      "execution_count": null,
      "outputs": [
        {
          "output_type": "display_data",
          "data": {
            "text/plain": [
              "<Figure size 1000x600 with 1 Axes>"
            ],
            "image/png": "[encoded data removed]"
          },
          "metadata": {}
        },
        {
          "output_type": "stream",
          "name": "stdout",
          "text": [
            "        Feature  Importance\n",
            "3         Close    0.237637\n",
            "8           EMA    0.210123\n",
            "5    middleband    0.177631\n",
            "7           SMA    0.158043\n",
            "4     upperband    0.088355\n",
            "6     lowerband    0.068823\n",
            "2           Low    0.048406\n",
            "1          High    0.009683\n",
            "9           RSI    0.000389\n",
            "15          ROC    0.000331\n",
            "0          Open    0.000214\n",
            "12    MACD_hist    0.000186\n",
            "10         MACD    0.000102\n",
            "11  MACD_signal    0.000037\n",
            "13        slowk    0.000020\n",
            "14        slowd    0.000019\n"
          ]
        }
      ]
    },
    {
      "cell_type": "code",
      "source": [
        "from sklearn.linear_model import LassoCV\n",
        "\n",
        "# Initialize Lasso with cross-validation\n",
        "lasso = LassoCV(cv=5, random_state=42)\n",
        "\n",
        "# Fit the model\n",
        "lasso.fit(X_train, y_train)\n",
        "\n",
        "# Get the coefficients (non-zero coefficients indicate important features)\n",
        "lasso_coefs = pd.DataFrame({'Feature': X_train.columns, 'Coefficient': lasso.coef_})\n",
        "lasso_coefs = lasso_coefs[lasso_coefs['Coefficient'] != 0].sort_values(by='Coefficient', ascending=False)\n",
        "\n",
        "# Display the important features\n",
        "print(lasso_coefs)\n",
        "\n",
        "# Plot the coefficients\n",
        "plt.figure(figsize=(10, 6))\n",
        "plt.title('Lasso Regression - Feature Coefficients')\n",
        "plt.barh(lasso_coefs['Feature'], lasso_coefs['Coefficient'], color='lightgreen')\n",
        "plt.gca().invert_yaxis()\n",
        "plt.show()"
      ],
      "metadata": {
        "colab": {
          "base_uri": "https://localhost:8080/",
          "height": 777
        },
        "id": "PYRMfEQAOy4Q",
        "outputId": "a44601f2-de53-45b9-9d83-4080e44f5f4b"
      },
      "execution_count": null,
      "outputs": [
        {
          "output_type": "stream",
          "name": "stdout",
          "text": [
            "        Feature   Coefficient\n",
            "1          High  2.226244e-01\n",
            "3         Close  1.541814e-01\n",
            "0          Open  6.477700e-02\n",
            "4     upperband  3.145322e-02\n",
            "13        slowk  2.426013e-02\n",
            "12    MACD_hist  6.584211e-03\n",
            "14        slowd  4.441412e-03\n",
            "9           RSI  1.627221e-03\n",
            "8           EMA  5.518080e-07\n",
            "15          ROC -6.122096e-03\n",
            "11  MACD_signal -1.491473e-02\n",
            "2           Low -6.795961e-02\n"
          ]
        },
        {
          "output_type": "display_data",
          "data": {
            "text/plain": [
              "<Figure size 1000x600 with 1 Axes>"
            ],
            "image/png": "[encoded data removed]"
          },
          "metadata": {}
        }
      ]
    },
    {
      "cell_type": "code",
      "source": [],
      "metadata": {
        "id": "d6Q2voKaPJdA"
      },
      "execution_count": null,
      "outputs": []
    },
    {
      "cell_type": "markdown",
      "source": [
        "After testing lets retrain with the best features"
      ],
      "metadata": {
        "id": "ZyUeJNMpQciR"
      }
    },
    {
      "cell_type": "code",
      "source": [
        "# Example: Combine your training tensors (features and targets)\n",
        "# Assuming you already have X_train_tensor and y_train_tensor from previous steps\n",
        "\n",
        "# Combine features (you can concatenate multiple features if needed)\n",
        "X_train_tensor_combined = X_train_tensor  # or torch.cat([X_train_tensor1, X_train_tensor2], dim=1)\n",
        "\n",
        "# Assuming your test data is similarly prepared\n",
        "X_test_tensor_combined = X_test_tensor  # or torch.cat([X_test_tensor1, X_test_tensor2], dim=1)\n",
        "\n",
        "# Now rerun the train_model function"
      ],
      "metadata": {
        "id": "EO1z_ytjORMk"
      },
      "execution_count": null,
      "outputs": []
    },
    {
      "cell_type": "code",
      "source": [
        "import torch.nn as nn\n",
        "import torch.optim as optim\n",
        "\n",
        "# Define the range of hyperparameters\n",
        "learning_rates = [0.01, 0.001, 0.0001]\n",
        "neurons_layer1 = [64, 128]\n",
        "neurons_layer2 = [32, 64]\n",
        "batch_sizes = [32, 64]\n",
        "epochs_list = [50, 100]\n",
        "\n",
        "def train_model(lr, n1, n2, batch_size, epochs, patience=10):\n",
        "    # Initialize model with the selected number of neurons and move to device\n",
        "    model = ForexNN(input_size=X_train_tensor_combined.shape[1]).to(device)\n",
        "\n",
        "    # Loss and optimizer\n",
        "    criterion = nn.BCELoss()\n",
        "    optimizer = optim.Adam(model.parameters(), lr=lr)\n",
        "\n",
        "    # Early stopping setup\n",
        "    best_loss = float('inf')\n",
        "    early_stop_count = 0\n",
        "\n",
        "    # Training loop with batches\n",
        "    num_batches = len(X_train_tensor_combined) // batch_size\n",
        "    for epoch in range(epochs):\n",
        "        epoch_loss = 0\n",
        "        for i in range(num_batches):\n",
        "            start_idx = i * batch_size\n",
        "            end_idx = start_idx + batch_size\n",
        "            inputs = X_train_tensor_combined[start_idx:end_idx]\n",
        "            targets = y_train_tensor[start_idx:end_idx]\n",
        "\n",
        "            # Forward pass\n",
        "            outputs = model(inputs)\n",
        "            loss = criterion(outputs.squeeze(), targets)\n",
        "\n",
        "            # Backward pass and optimization\n",
        "            optimizer.zero_grad()\n",
        "            loss.backward()\n",
        "            optimizer.step()\n",
        "\n",
        "            epoch_loss += loss.item()\n",
        "\n",
        "        # Early stopping check\n",
        "        if epoch_loss < best_loss:\n",
        "            best_loss = epoch_loss\n",
        "            early_stop_count = 0\n",
        "        else:\n",
        "            early_stop_count += 1\n",
        "\n",
        "        if early_stop_count >= patience:\n",
        "            print(f\"Early stopping at epoch {epoch}\")\n",
        "            break\n",
        "\n",
        "    # Evaluate on test set\n",
        "    model.eval()\n",
        "    with torch.no_grad():\n",
        "        test_outputs = model(X_test_tensor_combined)\n",
        "        predicted = torch.round(test_outputs).squeeze()\n",
        "        accuracy = accuracy_score(y_test_tensor.cpu().numpy(), predicted.cpu().numpy())\n",
        "\n",
        "    return accuracy\n",
        "\n",
        "# Perform hyperparameter tuning by iterating over combinations\n",
        "best_accuracy = 0\n",
        "best_params = None\n",
        "for lr in learning_rates:\n",
        "    for n1 in neurons_layer1:\n",
        "        for n2 in neurons_layer2:\n",
        "            for batch_size in batch_sizes:\n",
        "                for epochs in epochs_list:\n",
        "                    print(f\"Training with LR={lr}, Neurons_L1={n1}, Neurons_L2={n2}, Batch={batch_size}, Epochs={epochs}\")\n",
        "                    accuracy = train_model(lr, n1, n2, batch_size, epochs)\n",
        "                    if accuracy > best_accuracy:\n",
        "                        best_accuracy = accuracy\n",
        "                        best_params = (lr, n1, n2, batch_size, epochs)\n",
        "\n",
        "print(f\"Best Accuracy: {best_accuracy:.4f} with parameters: LR={best_params[0]}, Neurons_L1={best_params[1]}, Neurons_L2={best_params[2]}, Batch={best_params[3]}, Epochs={best_params[4]}\")"
      ],
      "metadata": {
        "colab": {
          "base_uri": "https://localhost:8080/",
          "height": 358
        },
        "id": "hYcBIc_6QfqS",
        "outputId": "b8ae8de8-b87a-4b3b-8bf8-191bb36fd3c6"
      },
      "execution_count": null,
      "outputs": [
        {
          "output_type": "stream",
          "name": "stdout",
          "text": [
            "Training with LR=0.01, Neurons_L1=64, Neurons_L2=32, Batch=32, Epochs=50\n"
          ]
        },
        {
          "output_type": "error",
          "ename": "NameError",
          "evalue": "name 'device' is not defined",
          "traceback": [
            "\u001b[0;31m---------------------------------------------------------------------------\u001b[0m",
            "\u001b[0;31mNameError\u001b[0m                                 Traceback (most recent call last)",
            "\u001b[0;32m<ipython-input-17-283fdfb80ad2>\u001b[0m in \u001b[0;36m<cell line: 67>\u001b[0;34m()\u001b[0m\n\u001b[1;32m     71\u001b[0m                 \u001b[0;32mfor\u001b[0m \u001b[0mepochs\u001b[0m \u001b[0;32min\u001b[0m \u001b[0mepochs_list\u001b[0m\u001b[0;34m:\u001b[0m\u001b[0;34m\u001b[0m\u001b[0;34m\u001b[0m\u001b[0m\n\u001b[1;32m     72\u001b[0m                     \u001b[0mprint\u001b[0m\u001b[0;34m(\u001b[0m\u001b[0;34mf\"Training with LR={lr}, Neurons_L1={n1}, Neurons_L2={n2}, Batch={batch_size}, Epochs={epochs}\"\u001b[0m\u001b[0;34m)\u001b[0m\u001b[0;34m\u001b[0m\u001b[0;34m\u001b[0m\u001b[0m\n\u001b[0;32m---> 73\u001b[0;31m                     \u001b[0maccuracy\u001b[0m \u001b[0;34m=\u001b[0m \u001b[0mtrain_model\u001b[0m\u001b[0;34m(\u001b[0m\u001b[0mlr\u001b[0m\u001b[0;34m,\u001b[0m \u001b[0mn1\u001b[0m\u001b[0;34m,\u001b[0m \u001b[0mn2\u001b[0m\u001b[0;34m,\u001b[0m \u001b[0mbatch_size\u001b[0m\u001b[0;34m,\u001b[0m \u001b[0mepochs\u001b[0m\u001b[0;34m)\u001b[0m\u001b[0;34m\u001b[0m\u001b[0;34m\u001b[0m\u001b[0m\n\u001b[0m\u001b[1;32m     74\u001b[0m                     \u001b[0;32mif\u001b[0m \u001b[0maccuracy\u001b[0m \u001b[0;34m>\u001b[0m \u001b[0mbest_accuracy\u001b[0m\u001b[0;34m:\u001b[0m\u001b[0;34m\u001b[0m\u001b[0;34m\u001b[0m\u001b[0m\n\u001b[1;32m     75\u001b[0m                         \u001b[0mbest_accuracy\u001b[0m \u001b[0;34m=\u001b[0m \u001b[0maccuracy\u001b[0m\u001b[0;34m\u001b[0m\u001b[0;34m\u001b[0m\u001b[0m\n",
            "\u001b[0;32m<ipython-input-17-283fdfb80ad2>\u001b[0m in \u001b[0;36mtrain_model\u001b[0;34m(lr, n1, n2, batch_size, epochs, patience)\u001b[0m\n\u001b[1;32m     11\u001b[0m \u001b[0;32mdef\u001b[0m \u001b[0mtrain_model\u001b[0m\u001b[0;34m(\u001b[0m\u001b[0mlr\u001b[0m\u001b[0;34m,\u001b[0m \u001b[0mn1\u001b[0m\u001b[0;34m,\u001b[0m \u001b[0mn2\u001b[0m\u001b[0;34m,\u001b[0m \u001b[0mbatch_size\u001b[0m\u001b[0;34m,\u001b[0m \u001b[0mepochs\u001b[0m\u001b[0;34m,\u001b[0m \u001b[0mpatience\u001b[0m\u001b[0;34m=\u001b[0m\u001b[0;36m10\u001b[0m\u001b[0;34m)\u001b[0m\u001b[0;34m:\u001b[0m\u001b[0;34m\u001b[0m\u001b[0;34m\u001b[0m\u001b[0m\n\u001b[1;32m     12\u001b[0m     \u001b[0;31m# Initialize model with the selected number of neurons and move to device\u001b[0m\u001b[0;34m\u001b[0m\u001b[0;34m\u001b[0m\u001b[0m\n\u001b[0;32m---> 13\u001b[0;31m     \u001b[0mmodel\u001b[0m \u001b[0;34m=\u001b[0m \u001b[0mForexNN\u001b[0m\u001b[0;34m(\u001b[0m\u001b[0minput_size\u001b[0m\u001b[0;34m=\u001b[0m\u001b[0mX_train_tensor_combined\u001b[0m\u001b[0;34m.\u001b[0m\u001b[0mshape\u001b[0m\u001b[0;34m[\u001b[0m\u001b[0;36m1\u001b[0m\u001b[0;34m]\u001b[0m\u001b[0;34m)\u001b[0m\u001b[0;34m.\u001b[0m\u001b[0mto\u001b[0m\u001b[0;34m(\u001b[0m\u001b[0mdevice\u001b[0m\u001b[0;34m)\u001b[0m\u001b[0;34m\u001b[0m\u001b[0;34m\u001b[0m\u001b[0m\n\u001b[0m\u001b[1;32m     14\u001b[0m \u001b[0;34m\u001b[0m\u001b[0m\n\u001b[1;32m     15\u001b[0m     \u001b[0;31m# Loss and optimizer\u001b[0m\u001b[0;34m\u001b[0m\u001b[0;34m\u001b[0m\u001b[0m\n",
            "\u001b[0;31mNameError\u001b[0m: name 'device' is not defined"
          ]
        }
      ]
    },
    {
      "cell_type": "code",
      "source": [
        "from sklearn.metrics import accuracy_score, precision_score, recall_score, f1_score\n",
        "\n",
        "# Evaluate the model on the test set\n",
        "model.eval()  # Set the model to evaluation mode\n",
        "with torch.no_grad():\n",
        "    predictions = model(X_test_tensor_combined)\n",
        "    predicted_labels = torch.round(predictions).squeeze()\n",
        "\n",
        "# Convert predictions to numpy for comparison\n",
        "predicted_labels = predicted_labels.numpy()\n",
        "y_test_numpy = y_test_tensor.numpy()\n",
        "\n",
        "# Calculate accuracy, precision, recall, and F1-score\n",
        "accuracy = accuracy_score(y_test_numpy, predicted_labels)\n",
        "precision = precision_score(y_test_numpy, predicted_labels)\n",
        "recall = recall_score(y_test_numpy, predicted_labels)\n",
        "f1 = f1_score(y_test_numpy, predicted_labels)\n",
        "\n",
        "# Print the evaluation metrics\n",
        "print(f\"Test Accuracy: {accuracy:.4f}\")\n",
        "print(f\"Test Precision: {precision:.4f}\")\n",
        "print(f\"Test Recall: {recall:.4f}\")\n",
        "print(f\"Test F1-score: {f1:.4f}\")"
      ],
      "metadata": {
        "id": "mKViQhoDQgbx"
      },
      "execution_count": null,
      "outputs": []
    },
    {
      "cell_type": "code",
      "source": [
        "print(f\"Input feature size: {X_train_tensor.shape[1]}\")"
      ],
      "metadata": {
        "id": "yp1yGkUsRUr2"
      },
      "execution_count": null,
      "outputs": []
    },
    {
      "cell_type": "code",
      "source": [],
      "metadata": {
        "id": "sMgSm-GuQ20J"
      },
      "execution_count": null,
      "outputs": []
    },
    {
      "cell_type": "code",
      "source": [],
      "metadata": {
        "id": "Qn6Bpqb9RI9D"
      },
      "execution_count": null,
      "outputs": []
    }
  ]
}